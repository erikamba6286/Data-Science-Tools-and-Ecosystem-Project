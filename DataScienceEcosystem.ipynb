{
 "cells": [
  {
   "cell_type": "markdown",
   "id": "73969b12-2a96-417e-a49c-c4d12261c36f",
   "metadata": {},
   "source": [
    "# Data Science Tools and Ecosystem"
   ]
  },
  {
   "cell_type": "markdown",
   "id": "70a75a50-e66f-464e-85c3-d7ba3c4b159f",
   "metadata": {},
   "source": [
    "In this notebook, Data Science Tools and Ecosystem are summarized. "
   ]
  },
  {
   "cell_type": "markdown",
   "id": "4d60fd0a-876d-402c-8d8a-12f5caf61df9",
   "metadata": {},
   "source": [
    "Some of the popular languages that Data Scientists use are: \n",
    "- Python\n",
    "- R \n",
    "- Julia"
   ]
  },
  {
   "cell_type": "markdown",
   "id": "90a268f1-843d-431e-a6e5-27cea2c7e51a",
   "metadata": {},
   "source": [
    "Some of the commonly used libraries used by Data Scientists include: \n",
    "- Pandas\n",
    "- Scikit-learn \n",
    "- NumPy"
   ]
  },
  {
   "cell_type": "markdown",
   "id": "57439e09-5216-4c3c-9356-5bb30bd50013",
   "metadata": {},
   "source": [
    "|Data Science Tools|\n",
    "| ----- |\n",
    "| RStudio |\n",
    "| Apache Spark |\n",
    "| TensorFlow |"
   ]
  },
  {
   "cell_type": "markdown",
   "id": "6e879f84-7c05-47d4-9a5b-d40b753f6ec3",
   "metadata": {},
   "source": [
    "### Below are a few examples of evaluating arithmetic expressions in Python"
   ]
  },
  {
   "cell_type": "markdown",
   "id": "9ad3aca6-a49c-40af-8fe6-b193de547929",
   "metadata": {},
   "source": [
    "This is a simple arithmetic expression to multiply than add integers "
   ]
  },
  {
   "cell_type": "code",
   "execution_count": 5,
   "id": "b1f22fa0-cde5-4071-ada0-4e024ed9edc6",
   "metadata": {},
   "outputs": [
    {
     "data": {
      "text/plain": [
       "17"
      ]
     },
     "execution_count": 5,
     "metadata": {},
     "output_type": "execute_result"
    }
   ],
   "source": [
    "(3*4)+5"
   ]
  },
  {
   "cell_type": "markdown",
   "id": "381f62cf-6a98-480a-9e0e-2af40dc41c82",
   "metadata": {},
   "source": [
    "This will convert 200 minutes to hours by dividing by 60"
   ]
  },
  {
   "cell_type": "code",
   "execution_count": 7,
   "id": "6074ec58-3303-46af-accd-ae1dc292277b",
   "metadata": {},
   "outputs": [
    {
     "data": {
      "text/plain": [
       "3"
      ]
     },
     "execution_count": 7,
     "metadata": {},
     "output_type": "execute_result"
    }
   ],
   "source": [
    "200 // 60"
   ]
  },
  {
   "cell_type": "markdown",
   "id": "ed6cca8f-3884-4274-832b-f26117cb57ff",
   "metadata": {},
   "source": [
    "**Objectives:**"
   ]
  },
  {
   "cell_type": "markdown",
   "id": "0e6db115-320a-4637-bb68-0f899d03abf6",
   "metadata": {},
   "source": [
    "+ Phython\n",
    "+ SQL\n",
    "+ Java\n",
    "+ Scala\n",
    "+ JavaScript"
   ]
  },
  {
   "cell_type": "markdown",
   "id": "dcf120f3-3183-40bb-9c09-c105c36bf1ad",
   "metadata": {},
   "source": [
    "## Author"
   ]
  },
  {
   "cell_type": "markdown",
   "id": "0f5a4a3c-5072-45e2-85ea-6da4f236b4b1",
   "metadata": {},
   "source": [
    "Erika Beck"
   ]
  },
  {
   "cell_type": "code",
   "execution_count": null,
   "id": "448bc469-c45d-4824-bf21-d451db5327a9",
   "metadata": {},
   "outputs": [],
   "source": []
  }
 ],
 "metadata": {
  "kernelspec": {
   "display_name": "Python",
   "language": "python",
   "name": "conda-env-python-py"
  },
  "language_info": {
   "codemirror_mode": {
    "name": "ipython",
    "version": 3
   },
   "file_extension": ".py",
   "mimetype": "text/x-python",
   "name": "python",
   "nbconvert_exporter": "python",
   "pygments_lexer": "ipython3",
   "version": "3.7.12"
  }
 },
 "nbformat": 4,
 "nbformat_minor": 5
}
